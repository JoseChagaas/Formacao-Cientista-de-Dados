{
 "cells": [
  {
   "cell_type": "code",
   "execution_count": null,
   "id": "c104c05c-65b5-4e9e-8b4a-847e4d4ee12a",
   "metadata": {},
   "outputs": [],
   "source": [
    "#Exercício 1\n",
    "def amplitude(lista): #Amplitude é o nome da função que define a diferença entre o maior e o menor número de uma lista\n",
    "    maior = max(lista)\n",
    "    menor = min(lista)\n",
    "    resultado = maior - menor\n",
    "    print(resultado)\n",
    "valor = [10, 9.5, 8, 2.5, 7]\n",
    "amplitude(valor)\n"
   ]
  },
  {
   "cell_type": "code",
   "execution_count": null,
   "id": "e90e5230-e7ff-4033-af15-a353ebb38b1f",
   "metadata": {},
   "outputs": [],
   "source": [
    "#Exercício 1.2\n",
    "def amplitude(lista): #Amplitude é o nome da função que define a diferença entre o maior e o menor número de uma lista\n",
    "    print(max(lista) - min(lista)) #Funções max() e min() só funcionam com objetos iteráveis, ou seja, objetos que podemos percorrer.\n",
    "amplitude([10, 9.5, 8, 2.5, 7])"
   ]
  },
  {
   "cell_type": "code",
   "execution_count": null,
   "id": "9164a722-9179-49e1-9483-c815e05f6945",
   "metadata": {},
   "outputs": [],
   "source": [
    "#Execício 2\n",
    "def NomeVertical(nome):\n",
    "    for n in range(0, len(nome)):\n",
    "        print(nome[n])\n",
    "NomeVertical(\"PYTHON\")"
   ]
  },
  {
   "cell_type": "code",
   "execution_count": null,
   "id": "86566a96-8dc5-4f57-9a08-eea2680aba93",
   "metadata": {},
   "outputs": [],
   "source": [
    "#Exercício 3 \n",
    "Peso = int(input(\"Digite aqui o peso (Kg): \"))\n",
    "#print(type(Peso))\n",
    "if Peso <= 10:\n",
    "    print(\"O valor é R$50.\")\n",
    "elif Peso > 10 and Peso <= 20:\n",
    "    print(\"O valor é R$80.\")\n",
    "else: #Else não leva condição\n",
    "    print(\"O transporte não é aceito para essa quantidade\")"
   ]
  },
  {
   "cell_type": "code",
   "execution_count": null,
   "id": "59519666-4ea9-4fe5-b76b-bf9852d29ad4",
   "metadata": {},
   "outputs": [],
   "source": []
  }
 ],
 "metadata": {
  "kernelspec": {
   "display_name": "Python 3 (ipykernel)",
   "language": "python",
   "name": "python3"
  },
  "language_info": {
   "codemirror_mode": {
    "name": "ipython",
    "version": 3
   },
   "file_extension": ".py",
   "mimetype": "text/x-python",
   "name": "python",
   "nbconvert_exporter": "python",
   "pygments_lexer": "ipython3",
   "version": "3.13.5"
  }
 },
 "nbformat": 4,
 "nbformat_minor": 5
}
